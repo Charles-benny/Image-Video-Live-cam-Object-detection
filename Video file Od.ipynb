{
 "cells": [
  {
   "cell_type": "code",
   "execution_count": 36,
   "id": "6121ad59-7e7c-47cc-8b76-7742e5a97add",
   "metadata": {},
   "outputs": [],
   "source": [
    "import cv2\n",
    "import numpy as np"
   ]
  },
  {
   "cell_type": "code",
   "execution_count": 37,
   "id": "28de2e97-9155-4675-b492-ac8c7f497ac7",
   "metadata": {},
   "outputs": [],
   "source": [
    "config_file = './ssd_mobilenet_v3_large_coco_2020_01_14.pbtxt'# model files Insertion\n",
    "frozen_model = './frozen_inference_graph.pb'"
   ]
  },
  {
   "cell_type": "code",
   "execution_count": 38,
   "id": "ef74c59a-95a8-44e4-82cb-b6131007741b",
   "metadata": {},
   "outputs": [
    {
     "data": {
      "text/plain": [
       "< cv2.dnn.Model 000002A4D97AC7B0>"
      ]
     },
     "execution_count": 38,
     "metadata": {},
     "output_type": "execute_result"
    }
   ],
   "source": [
    "\"\"\"loading network\"\"\"\n",
    "model = cv2.dnn_DetectionModel(frozen_model, config_file)\n",
    "model.setInputSize(320, 320)\n",
    "model.setInputScale(1.0 / 127.5)\n",
    "model.setInputMean((127.5, 127.5, 127.5))\n",
    "model.setInputSwapRB(True)"
   ]
  },
  {
   "cell_type": "code",
   "execution_count": 39,
   "id": "6078ca9f-bddd-40e0-8837-7d0f8e68e829",
   "metadata": {},
   "outputs": [],
   "source": [
    "labels = []\n",
    "file_name = 'coco.txt'  # Assuming you have a file named coco.txt with class names\n",
    "with open(file_name, 'rt') as fpt:\n",
    "    labels = fpt.read().rstrip('\\n').split('\\n')"
   ]
  },
  {
   "cell_type": "code",
   "execution_count": 40,
   "id": "385a79e7-d3d4-4a68-b49b-6b48a6ef1cf1",
   "metadata": {},
   "outputs": [],
   "source": [
    "# Open the video file\n",
    "video_path = 'people.mp4'  # Path to your video file\n",
    "cap = cv2.VideoCapture(video_path)\n",
    "if not cap.isOpened():\n",
    "    raise ValueError(\"Error opening video file\")\n",
    "while cap.isOpened():\n",
    "    ret, frame = cap.read()\n",
    "    if not ret:\n",
    "        break\n",
    "\n",
    "    \n",
    "    class_ids, confidences, boxes = model.detect(frame, confThreshold=0.5)# Perform object detection\n",
    "\n",
    "    class_ids = np.array(class_ids)\n",
    "    confidences = np.array(confidences)\n",
    "    boxes = np.array(boxes)\n",
    "\n",
    "    font_scale = 3\n",
    "    font = cv2.FONT_HERSHEY_PLAIN\n",
    "    for class_id, confidence, box in zip(class_ids.flatten(), confidences.flatten(), boxes):# Bounding boxes and labels\n",
    "        cv2.rectangle(frame, box, (255, 0, 0), 2)\n",
    "        cv2.putText(frame, f'{labels[class_id - 1]}: {confidence:.2f}', (box[0] + 10, box[1] + 40), font, fontScale=font_scale, color=(0, 255, 0), thickness=2)\n",
    "\n",
    "\n",
    "    cv2.imshow('Object Detection', frame)\n",
    "\n",
    "   \n",
    "    if cv2.waitKey(1) & 0xFF == ord('Q'):\n",
    "        break\n"
   ]
  },
  {
   "cell_type": "code",
   "execution_count": 41,
   "id": "fcd20270-6d33-43de-b0b4-4ab9bfa26ba4",
   "metadata": {},
   "outputs": [],
   "source": [
    "cap.release()\n",
    "cv2.destroyAllWindows()"
   ]
  },
  {
   "cell_type": "code",
   "execution_count": 42,
   "id": "91bcc232-a66c-4e47-82b4-db376da24720",
   "metadata": {},
   "outputs": [],
   "source": [
    " # PRESS 'Q' to EXIT \"\"\""
   ]
  }
 ],
 "metadata": {
  "kernelspec": {
   "display_name": "Python 3 (ipykernel)",
   "language": "python",
   "name": "python3"
  },
  "language_info": {
   "codemirror_mode": {
    "name": "ipython",
    "version": 3
   },
   "file_extension": ".py",
   "mimetype": "text/x-python",
   "name": "python",
   "nbconvert_exporter": "python",
   "pygments_lexer": "ipython3",
   "version": "3.11.7"
  }
 },
 "nbformat": 4,
 "nbformat_minor": 5
}
