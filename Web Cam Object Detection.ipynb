{
 "cells": [
  {
   "cell_type": "code",
   "execution_count": 1,
   "id": "ca8508a1-cea1-4855-b27f-e951f13b3119",
   "metadata": {},
   "outputs": [],
   "source": [
    "import cv2\n",
    "import numpy as np"
   ]
  },
  {
   "cell_type": "code",
   "execution_count": 2,
   "id": "4d88b9dc-67fc-45ab-891b-b9ac838788d4",
   "metadata": {},
   "outputs": [],
   "source": [
    "config_file = './ssd_mobilenet_v3_large_coco_2020_01_14.pbtxt'# model files Insertion\n",
    "frozen_model = './frozen_inference_graph.pb'"
   ]
  },
  {
   "cell_type": "code",
   "execution_count": 3,
   "id": "3fc11647-dc2f-4e68-99e5-3d83a283322d",
   "metadata": {},
   "outputs": [
    {
     "data": {
      "text/plain": [
       "< cv2.dnn.Model 0000029DE7D57610>"
      ]
     },
     "execution_count": 3,
     "metadata": {},
     "output_type": "execute_result"
    }
   ],
   "source": [
    "\"\"\"loading network\"\"\"\n",
    "model = cv2.dnn_DetectionModel(frozen_model, config_file)\n",
    "model.setInputSize(320, 320)\n",
    "model.setInputScale(1.0 / 127.5)\n",
    "model.setInputMean((127.5, 127.5, 127.5))\n",
    "model.setInputSwapRB(True)"
   ]
  },
  {
   "cell_type": "code",
   "execution_count": 4,
   "id": "bda29245-d484-4dee-97dc-18dabd1d1d68",
   "metadata": {},
   "outputs": [],
   "source": [
    "labels = []\n",
    "file_name = 'coco.txt'  #Refer In github\n",
    "with open(file_name, 'rt') as fpt:\n",
    "    labels = fpt.read().rstrip('\\n').split('\\n')"
   ]
  },
  {
   "cell_type": "code",
   "execution_count": 5,
   "id": "87a23194-1914-4705-8527-429b208773f4",
   "metadata": {},
   "outputs": [],
   "source": [
    "cap = cv2.VideoCapture(0)  # 0 is the default ID for the primary webcam"
   ]
  },
  {
   "cell_type": "code",
   "execution_count": 6,
   "id": "58ddd2cb-8d49-417b-80f7-80b1de689acc",
   "metadata": {},
   "outputs": [],
   "source": [
    "if not cap.isOpened():\n",
    "    raise ValueError(\"Error opening webcam\")\n",
    "\n",
    "while cap.isOpened():\n",
    "    ret, frame = cap.read()\n",
    "    if not ret:\n",
    "        break\n",
    "    class_ids, confidences, boxes = model.detect(frame, confThreshold=0.5)\n",
    "\n",
    "    font_scale = 3\n",
    "    font = cv2.FONT_HERSHEY_PLAIN\n",
    "    for class_id, confidence, box in zip(class_ids.flatten(), confidences.flatten(), boxes):#Bounding for boxes and labels\n",
    "        cv2.rectangle(frame, box, (255, 0, 0), 2)\n",
    "        cv2.putText(frame, f'{labels[class_id - 1]}: {confidence:.2f}', (box[0] + 10, box[1] + 40), font, fontScale=font_scale, color=(0, 255, 0), thickness=3)\n",
    "    cv2.imshow('Object Detection', frame)\n",
    "\n",
    "    if cv2.waitKey(1) & 0xFF == ord('Q',):\n",
    "        break"
   ]
  },
  {
   "cell_type": "code",
   "execution_count": null,
   "id": "7e6a41a4-e426-4e55-918c-fcdb62af993f",
   "metadata": {},
   "outputs": [],
   "source": [
    "cap.release()\n",
    "cv2.destroyAllWindows()"
   ]
  },
  {
   "cell_type": "code",
   "execution_count": null,
   "id": "0654d953-cb83-4d26-91a7-6150ebf8ff59",
   "metadata": {},
   "outputs": [],
   "source": [
    " # PRESS 'Q' to EXIT \"\"\""
   ]
  }
 ],
 "metadata": {
  "kernelspec": {
   "display_name": "Python 3 (ipykernel)",
   "language": "python",
   "name": "python3"
  },
  "language_info": {
   "codemirror_mode": {
    "name": "ipython",
    "version": 3
   },
   "file_extension": ".py",
   "mimetype": "text/x-python",
   "name": "python",
   "nbconvert_exporter": "python",
   "pygments_lexer": "ipython3",
   "version": "3.11.7"
  }
 },
 "nbformat": 4,
 "nbformat_minor": 5
}
